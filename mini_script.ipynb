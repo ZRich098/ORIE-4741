{
 "cells": [
  {
   "cell_type": "code",
   "execution_count": 2,
   "metadata": {},
   "outputs": [],
   "source": [
    "using CSV\n",
    "using Plots\n",
    "using DataFrames\n",
    "using Statistics\n",
    "using LinearAlgebra\n",
    "using Dates"
   ]
  },
  {
   "cell_type": "code",
   "execution_count": 35,
   "metadata": {},
   "outputs": [
    {
     "name": "stdout",
     "output_type": "stream",
     "text": [
      "DataFrameRow\n",
      "│ Row │ CAD_INCIDENT_ID │ INCIDENT_DATETIME      │ INITIAL_CALL_TYPE │ INITIAL_SEVERITY_LEVEL_CODE │ FINAL_CALL_TYPE │ FINAL_SEVERITY_LEVEL_CODE │ FIRST_ASSIGNMENT_DATETIME │ VALID_DISPATCH_RSPNS_TIME_INDC │ DISPATCH_RESPONSE_SECONDS_QY │ FIRST_ACTIVATION_DATETIME │ FIRST_ON_SCENE_DATETIME │ VALID_INCIDENT_RSPNS_TIME_INDC │ INCIDENT_RESPONSE_SECONDS_QY │ INCIDENT_TRAVEL_TM_SECONDS_QY │ FIRST_TO_HOSP_DATETIME │ FIRST_HOSP_ARRIVAL_DATETIME │ INCIDENT_CLOSE_DATETIME │ HELD_INDICATOR │ INCIDENT_DISPOSITION_CODE │ BOROUGH  │ INCIDENT_DISPATCH_AREA │ ZIPCODE │ POLICEPRECINCT │ CITYCOUNCILDISTRICT │ COMMUNITYDISTRICT │ COMMUNITYSCHOOLDISTRICT │ CONGRESSIONALDISTRICT │ REOPEN_INDICATOR │ SPECIAL_EVENT_INDICATOR │ STANDBY_INDICATOR │ TRANSFER_INDICATOR │\n",
      "│     │ \u001b[90mInt64\u001b[39m           │ \u001b[90mString\u001b[39m                 │ \u001b[90mString\u001b[39m            │ \u001b[90mInt64\u001b[39m                       │ \u001b[90mString\u001b[39m          │ \u001b[90mInt64\u001b[39m                     │ \u001b[90mUnion{Missing, String}\u001b[39m    │ \u001b[90mString\u001b[39m                         │ \u001b[90mInt64\u001b[39m                        │ \u001b[90mUnion{Missing, String}\u001b[39m    │ \u001b[90mUnion{Missing, String}\u001b[39m  │ \u001b[90mString\u001b[39m                         │ \u001b[90mUnion{Missing, Int64}\u001b[39m        │ \u001b[90mUnion{Missing, Int64}\u001b[39m         │ \u001b[90mUnion{Missing, String}\u001b[39m │ \u001b[90mUnion{Missing, String}\u001b[39m      │ \u001b[90mString\u001b[39m                  │ \u001b[90mString\u001b[39m         │ \u001b[90mUnion{Missing, Int64}\u001b[39m     │ \u001b[90mString\u001b[39m   │ \u001b[90mString\u001b[39m                 │ \u001b[90mInt64\u001b[39m   │ \u001b[90mInt64\u001b[39m          │ \u001b[90mInt64\u001b[39m               │ \u001b[90mInt64\u001b[39m             │ \u001b[90mInt64\u001b[39m                   │ \u001b[90mInt64\u001b[39m                 │ \u001b[90mString\u001b[39m           │ \u001b[90mString\u001b[39m                  │ \u001b[90mString\u001b[39m            │ \u001b[90mString\u001b[39m             │\n",
      "├─────┼─────────────────┼────────────────────────┼───────────────────┼─────────────────────────────┼─────────────────┼───────────────────────────┼───────────────────────────┼────────────────────────────────┼──────────────────────────────┼───────────────────────────┼─────────────────────────┼────────────────────────────────┼──────────────────────────────┼───────────────────────────────┼────────────────────────┼─────────────────────────────┼─────────────────────────┼────────────────┼───────────────────────────┼──────────┼────────────────────────┼─────────┼────────────────┼─────────────────────┼───────────────────┼─────────────────────────┼───────────────────────┼──────────────────┼─────────────────────────┼───────────────────┼────────────────────┤\n",
      "│ 5   │ 80010005        │ 01/01/2008 12:00:09 AM │ OTHER             │ 6                           │ OTHER           │ 6                         │ \u001b[90mmissing\u001b[39m                   │ N                              │ 0                            │ \u001b[90mmissing\u001b[39m                   │ \u001b[90mmissing\u001b[39m                 │ N                              │ \u001b[90mmissing\u001b[39m                      │ \u001b[90mmissing\u001b[39m                       │ \u001b[90mmissing\u001b[39m                │ \u001b[90mmissing\u001b[39m                     │ 01/01/2008 12:00:09 AM  │ N              │ \u001b[90mmissing\u001b[39m                   │ BROOKLYN │ K6                     │ 11201   │ 84             │ 33                  │ 302               │ 13                      │ 8                     │ N                │ N                       │ N                 │ N                  │"
     ]
    }
   ],
   "source": [
    "df = CSV.read(\"data/EMS_Incident_Dispatch_Data.csv\", limit=5)\n",
    "io = open(\"EMS_2018.csv\", \"w\")\n",
    "for line in readfile(df)\n",
    "    #print(df[i, :INCIDENT_DATETIME])\n",
    "    date = Date(df[i, :INCIDENT_DATETIME], \"m/d/y I:M:S p\")\n",
    "    print(df[i, :])\n",
    "    #if Dates.year(date) == 2008\n",
    "    #  CSV.write(io, df[i, :], append=true)\n",
    "    #end\n",
    "end\n",
    "close(io)"
   ]
  },
  {
   "cell_type": "code",
   "execution_count": 24,
   "metadata": {},
   "outputs": [
    {
     "name": "stdout",
     "output_type": "stream",
     "text": [
      "5×31 DataFrame\n",
      "│ Row │ CAD_INCIDENT_ID │ INCIDENT_DATETIME      │ INITIAL_CALL_TYPE │ INITIAL_SEVERITY_LEVEL_CODE │ FINAL_CALL_TYPE │ FINAL_SEVERITY_LEVEL_CODE │ FIRST_ASSIGNMENT_DATETIME │ VALID_DISPATCH_RSPNS_TIME_INDC │ DISPATCH_RESPONSE_SECONDS_QY │ FIRST_ACTIVATION_DATETIME │ FIRST_ON_SCENE_DATETIME │ VALID_INCIDENT_RSPNS_TIME_INDC │ INCIDENT_RESPONSE_SECONDS_QY │ INCIDENT_TRAVEL_TM_SECONDS_QY │ FIRST_TO_HOSP_DATETIME │ FIRST_HOSP_ARRIVAL_DATETIME │ INCIDENT_CLOSE_DATETIME │ HELD_INDICATOR │ INCIDENT_DISPOSITION_CODE │ BOROUGH  │ INCIDENT_DISPATCH_AREA │ ZIPCODE │ POLICEPRECINCT │ CITYCOUNCILDISTRICT │ COMMUNITYDISTRICT │ COMMUNITYSCHOOLDISTRICT │ CONGRESSIONALDISTRICT │ REOPEN_INDICATOR │ SPECIAL_EVENT_INDICATOR │ STANDBY_INDICATOR │ TRANSFER_INDICATOR │\n",
      "│     │ \u001b[90mInt64\u001b[39m           │ \u001b[90mString\u001b[39m                 │ \u001b[90mString\u001b[39m            │ \u001b[90mInt64\u001b[39m                       │ \u001b[90mString\u001b[39m          │ \u001b[90mInt64\u001b[39m                     │ \u001b[90mUnion{Missing, String}\u001b[39m    │ \u001b[90mString\u001b[39m                         │ \u001b[90mInt64\u001b[39m                        │ \u001b[90mUnion{Missing, String}\u001b[39m    │ \u001b[90mUnion{Missing, String}\u001b[39m  │ \u001b[90mString\u001b[39m                         │ \u001b[90mUnion{Missing, Int64}\u001b[39m        │ \u001b[90mUnion{Missing, Int64}\u001b[39m         │ \u001b[90mUnion{Missing, String}\u001b[39m │ \u001b[90mUnion{Missing, String}\u001b[39m      │ \u001b[90mString\u001b[39m                  │ \u001b[90mString\u001b[39m         │ \u001b[90mUnion{Missing, Int64}\u001b[39m     │ \u001b[90mString\u001b[39m   │ \u001b[90mString\u001b[39m                 │ \u001b[90mInt64\u001b[39m   │ \u001b[90mInt64\u001b[39m          │ \u001b[90mInt64\u001b[39m               │ \u001b[90mInt64\u001b[39m             │ \u001b[90mInt64\u001b[39m                   │ \u001b[90mInt64\u001b[39m                 │ \u001b[90mString\u001b[39m           │ \u001b[90mString\u001b[39m                  │ \u001b[90mString\u001b[39m            │ \u001b[90mString\u001b[39m             │\n",
      "├─────┼─────────────────┼────────────────────────┼───────────────────┼─────────────────────────────┼─────────────────┼───────────────────────────┼───────────────────────────┼────────────────────────────────┼──────────────────────────────┼───────────────────────────┼─────────────────────────┼────────────────────────────────┼──────────────────────────────┼───────────────────────────────┼────────────────────────┼─────────────────────────────┼─────────────────────────┼────────────────┼───────────────────────────┼──────────┼────────────────────────┼─────────┼────────────────┼─────────────────────┼───────────────────┼─────────────────────────┼───────────────────────┼──────────────────┼─────────────────────────┼───────────────────┼────────────────────┤\n",
      "│ 1   │ 80010001        │ 01/01/2008 12:00:01 AM │ OTHER             │ 6                           │ OTHER           │ 6                         │ \u001b[90mmissing\u001b[39m                   │ N                              │ 0                            │ \u001b[90mmissing\u001b[39m                   │ \u001b[90mmissing\u001b[39m                 │ N                              │ \u001b[90mmissing\u001b[39m                      │ \u001b[90mmissing\u001b[39m                       │ \u001b[90mmissing\u001b[39m                │ \u001b[90mmissing\u001b[39m                     │ 01/01/2008 12:00:01 AM  │ N              │ \u001b[90mmissing\u001b[39m                   │ BROOKLYN │ K6                     │ 11201   │ 84             │ 33                  │ 302               │ 13                      │ 8                     │ N                │ N                       │ N                 │ N                  │\n",
      "│ 2   │ 80010002        │ 01/01/2008 12:00:05 AM │ OTHER             │ 6                           │ OTHER           │ 6                         │ \u001b[90mmissing\u001b[39m                   │ N                              │ 0                            │ \u001b[90mmissing\u001b[39m                   │ \u001b[90mmissing\u001b[39m                 │ N                              │ \u001b[90mmissing\u001b[39m                      │ \u001b[90mmissing\u001b[39m                       │ \u001b[90mmissing\u001b[39m                │ \u001b[90mmissing\u001b[39m                     │ 01/01/2008 12:00:05 AM  │ N              │ \u001b[90mmissing\u001b[39m                   │ BROOKLYN │ K6                     │ 11201   │ 84             │ 33                  │ 302               │ 13                      │ 8                     │ N                │ N                       │ N                 │ N                  │\n",
      "│ 3   │ 80010003        │ 01/01/2008 12:00:06 AM │ INJURY            │ 5                           │ INJURY          │ 5                         │ 01/01/2008 12:12:18 AM    │ Y                              │ 732                          │ 01/01/2008 12:12:28 AM    │ 01/01/2008 12:27:43 AM  │ Y                              │ 1657                         │ 925                           │ 01/01/2008 12:48:12 AM │ 01/01/2008 12:55:50 AM      │ 01/01/2008 01:23:48 AM  │ Y              │ 82                        │ QUEENS   │ Q6                     │ 11101   │ 114            │ 26                  │ 401               │ 30                      │ 12                    │ N                │ N                       │ N                 │ N                  │\n",
      "│ 4   │ 80010004        │ 01/01/2008 12:00:07 AM │ OTHER             │ 6                           │ OTHER           │ 6                         │ \u001b[90mmissing\u001b[39m                   │ N                              │ 0                            │ \u001b[90mmissing\u001b[39m                   │ \u001b[90mmissing\u001b[39m                 │ N                              │ \u001b[90mmissing\u001b[39m                      │ \u001b[90mmissing\u001b[39m                       │ \u001b[90mmissing\u001b[39m                │ \u001b[90mmissing\u001b[39m                     │ 01/01/2008 12:00:07 AM  │ N              │ \u001b[90mmissing\u001b[39m                   │ BROOKLYN │ K6                     │ 11201   │ 84             │ 33                  │ 302               │ 13                      │ 8                     │ N                │ N                       │ N                 │ N                  │\n",
      "│ 5   │ 80010005        │ 01/01/2008 12:00:09 AM │ OTHER             │ 6                           │ OTHER           │ 6                         │ \u001b[90mmissing\u001b[39m                   │ N                              │ 0                            │ \u001b[90mmissing\u001b[39m                   │ \u001b[90mmissing\u001b[39m                 │ N                              │ \u001b[90mmissing\u001b[39m                      │ \u001b[90mmissing\u001b[39m                       │ \u001b[90mmissing\u001b[39m                │ \u001b[90mmissing\u001b[39m                     │ 01/01/2008 12:00:09 AM  │ N              │ \u001b[90mmissing\u001b[39m                   │ BROOKLYN │ K6                     │ 11201   │ 84             │ 33                  │ 302               │ 13                      │ 8                     │ N                │ N                       │ N                 │ N                  │"
     ]
    },
    {
     "ename": "LoadError",
     "evalue": "AbstractDataFrame is not iterable. Use eachrow(df) to get a row iterator or eachcol(df) to get a column iterator",
     "output_type": "error",
     "traceback": [
      "AbstractDataFrame is not iterable. Use eachrow(df) to get a row iterator or eachcol(df) to get a column iterator",
      "",
      "Stacktrace:",
      " [1] error(::String) at .\\error.jl:33",
      " [2] iterate(::DataFrame) at C:\\Users\\anime\\.julia\\packages\\DataFrames\\GtZ1l\\src\\abstractdataframe\\iteration.jl:23",
      " [3] top-level scope at .\\In[24]:9",
      " [4] include_string(::Function, ::Module, ::String, ::String) at .\\loading.jl:1091"
     ]
    }
   ],
   "source": [
    "#df = CSV.File(\"data/EMS_Incident_Dispatch_Data.csv\", limit=5, header=true)\n",
    "#df = Tables.datavaluerows(CSV.File(\"data/EMS_Incident_Dispatch_Data.csv\", limit=5, header=true))\n",
    "df = CSV.read(\"data/EMS_Incident_Dispatch_Data.csv\", limit=5)\n",
    "#print(df[1])\n",
    "#df = DataFrame(df)\n",
    "print(df)\n",
    "#skipto, limit\n",
    "io = open(\"EMS_2018.csv\", \"w\")\n",
    "for row in df\n",
    "    #print(typeof(row))\n",
    "    date = Date(row[:INCIDENT_DATETIME], \"m/d/y I:M:S p\")\n",
    "    if Dates.year(date) == 2008\n",
    "       CSV.write(io, row, append=true)\n",
    "    end\n",
    "end"
   ]
  },
  {
   "cell_type": "code",
   "execution_count": null,
   "metadata": {},
   "outputs": [],
   "source": [
    "#table for 2018 to see \"normal\" data\n",
    "#table for 2019-200 to see covid data"
   ]
  }
 ],
 "metadata": {
  "kernelspec": {
   "display_name": "JuliaPro_v1.5.1-1 1.5.1",
   "language": "julia",
   "name": "juliapro_v1.5.1-1-1.5"
  },
  "language_info": {
   "file_extension": ".jl",
   "mimetype": "application/julia",
   "name": "julia",
   "version": "1.5.1"
  }
 },
 "nbformat": 4,
 "nbformat_minor": 2
}
