{
 "cells": [
  {
   "cell_type": "code",
   "execution_count": 4,
   "metadata": {},
   "outputs": [],
   "source": [
    "using CSV\n",
    "using Plots\n",
    "using DataFrames\n",
    "using Statistics\n",
    "using LinearAlgebra\n",
    "using Dates"
   ]
  },
  {
   "cell_type": "code",
   "execution_count": null,
   "metadata": {},
   "outputs": [],
   "source": [
    "df = CSV.File(\"data/EMS_Incident_Dispatch_Data.csv\", limit=50)\n",
    "df = DataFrame(df)\n",
    "print(df)\n",
    "#skipto, limit\n",
    "io = open(\"EMS_2018.csv\", \"w\")\n",
    "for row in eachrow(df)\n",
    "    #print(row)\n",
    "    date = Date(row[:INCIDENT_DATETIME], \"m/d/y I:M:S p\")\n",
    "    if Dates.year(date) == 2008\n",
    "        CSV.write(io, row, append=true)\n",
    "    end\n",
    "end"
   ]
  },
  {
   "cell_type": "code",
   "execution_count": null,
   "metadata": {},
   "outputs": [],
   "source": [
    "#table for 2018 to see \"normal\" data\n",
    "#table for 2019-200 to see covid data"
   ]
  },
  {
   "cell_type": "code",
   "execution_count": null,
   "metadata": {},
   "outputs": [],
   "source": [
    "CSV.write()"
   ]
  }
 ],
 "metadata": {
  "kernelspec": {
   "display_name": "JuliaPro_v1.5.1-1 1.5.1",
   "language": "julia",
   "name": "juliapro_v1.5.1-1-1.5"
  },
  "language_info": {
   "file_extension": ".jl",
   "mimetype": "application/julia",
   "name": "julia",
   "version": "1.5.1"
  }
 },
 "nbformat": 4,
 "nbformat_minor": 2
}
